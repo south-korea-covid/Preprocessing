{
 "cells": [
  {
   "cell_type": "markdown",
   "metadata": {},
   "source": [
    "# 강남구 (1080)\n",
    "- 작성자 : 황다은\n",
    "- 작성일자 : 2020년 9월 6일\n",
    "- 편집자 : 이준석\n",
    "- 편집일자 : 2020년 9월 6일"
   ]
  },
  {
   "cell_type": "code",
   "execution_count": 259,
   "metadata": {},
   "outputs": [],
   "source": [
    "from bs4 import BeautifulSoup\n",
    "import datetime as dt\n",
    "import pandas as pd\n",
    "import numpy as np\n",
    "import re\n",
    "from tqdm import tqdm\n",
    "\n",
    "dat = dt.datetime.today().date() # 오늘 날짜"
   ]
  },
  {
   "cell_type": "markdown",
   "metadata": {},
   "source": [
    "### 1. Raw File 불러오기"
   ]
  },
  {
   "cell_type": "code",
   "execution_count": 136,
   "metadata": {},
   "outputs": [],
   "source": [
    "df = pd.read_csv(\"200905one_shot.csv\")\n",
    "soup = BeautifulSoup(df['html'][0], 'html.parser')"
   ]
  },
  {
   "cell_type": "markdown",
   "metadata": {},
   "source": [
    "### 2. Regex Parsing 하기"
   ]
  },
  {
   "cell_type": "code",
   "execution_count": 226,
   "metadata": {},
   "outputs": [],
   "source": [
    "# 너무 길어서 두 개로 나누었다. (가시적으로 표현하자.)\n",
    "regex = 'tle\\\"\\>\\#(?P<num>.+?)\\s확진자\\\\t\\((?P<rsd>.+?)\\).+?\\/\\s?(?P<dat>.+?)\\<\\/div.+?<li>감염경로\\s\\:\\s?''\n",
    "regex += '(?P<pth>.+?)\\<\\/li\\>\\s\\<li\\>(증상발현일\\s\\:\\s)?(?P<sym>.+?)\\<\\/li>(.+?조치\\s\\:\\s(?P<atn>.+?)\\<\\/li\\>)?'\n",
    "\n",
    "rows = soup.select('#tab-1 .acodList')\n",
    "infos = [re.search(regex, str(r)) for r in rows]"
   ]
  },
  {
   "cell_type": "markdown",
   "metadata": {},
   "source": [
    "### 3. 저장할 DataFrame 미리 만들기"
   ]
  },
  {
   "cell_type": "code",
   "execution_count": 258,
   "metadata": {},
   "outputs": [],
   "source": [
    "pat_col = ['num', 'dat', 'pth', 'syy', 'syd', 'cnd', 'rsd', 'atn', 'dch', 'adt']\n",
    "rou_col = ['num', 'ord', 'dat', 'rgl', 'rgt', 'frm', 'exd', 'msk', 'ste', 'mob']\n",
    "patient = pd.DataFrame(columns = pat_col)\n",
    "route = pd.DataFrame(columns = rou_col)"
   ]
  },
  {
   "cell_type": "markdown",
   "metadata": {},
   "source": [
    "### 4. 귀찮은 전처리해주기"
   ]
  },
  {
   "cell_type": "code",
   "execution_count": 261,
   "metadata": {},
   "outputs": [
    {
     "name": "stderr",
     "output_type": "stream",
     "text": [
      "100%|██████████| 138/138 [00:00<00:00, 166.18it/s]\n"
     ]
    }
   ],
   "source": [
    "for info in tqdm(infos):\n",
    "    \n",
    "    # regex 처리가 안 되는 애들은 어차피 정보가 없으므로 None 값임.\n",
    "    if info is not None:\n",
    "        \n",
    "        num = '1080' + '0' * (5-len(info.group('num'))) + info.group('num')\n",
    "        syy = info.group('sym').strip() == '증상없음'\n",
    "        syd = info.group('sym') * syy\n",
    "        dch = ''; adt = '' # 정보가 없으면 이렇게 처리하자\n",
    "        rsd, cnd, pth, sym, atn = info.group('rsd'), info.group('dat'), info.group('pth'), info.group('sym'), info.group('atn')\n",
    "        new_pat = pd.DataFrame([(num, dat, pth, syy, syd, cnd, rsd, atn, dch, adt)], columns = pat_col)\n",
    "        \n",
    "        patient = pd.concat([patient, new_pat])\n",
    "        \n",
    "        new_route = pd.read_html(str(rows[4].select('table')[0]))[0]\n",
    "        new_route['rgl'] = new_route.지역 + new_route.위치\n",
    "        new_route['frm'] = ''; new_route['msk'] = ''\n",
    "        new_route['num'] = num\n",
    "        new_route['ord'] = range(1, len(new_route)+1)\n",
    "        new_route['dat'] = dat\n",
    "        new_route = new_route.drop(['지역', '위치'], axis = 1)\n",
    "        new_route.columns = ['rgt', 'exd', 'mob', 'ste', 'rgl', 'frm', 'msk', 'num', 'ord', 'dat']\n",
    "        new_route = new_route.loc[:,rou_col]\n",
    "        \n",
    "        route = pd.concat([route, new_route])"
   ]
  },
  {
   "cell_type": "markdown",
   "metadata": {},
   "source": [
    "### 5. 결과 잘 나왔나 확인하기"
   ]
  },
  {
   "cell_type": "code",
   "execution_count": 266,
   "metadata": {},
   "outputs": [
    {
     "data": {
      "text/html": [
       "<div>\n",
       "<style scoped>\n",
       "    .dataframe tbody tr th:only-of-type {\n",
       "        vertical-align: middle;\n",
       "    }\n",
       "\n",
       "    .dataframe tbody tr th {\n",
       "        vertical-align: top;\n",
       "    }\n",
       "\n",
       "    .dataframe thead th {\n",
       "        text-align: right;\n",
       "    }\n",
       "</style>\n",
       "<table border=\"1\" class=\"dataframe\">\n",
       "  <thead>\n",
       "    <tr style=\"text-align: right;\">\n",
       "      <th></th>\n",
       "      <th>num</th>\n",
       "      <th>dat</th>\n",
       "      <th>pth</th>\n",
       "      <th>syy</th>\n",
       "      <th>syd</th>\n",
       "      <th>cnd</th>\n",
       "      <th>rsd</th>\n",
       "      <th>atn</th>\n",
       "      <th>dch</th>\n",
       "      <th>adt</th>\n",
       "    </tr>\n",
       "  </thead>\n",
       "  <tbody>\n",
       "    <tr>\n",
       "      <th>0</th>\n",
       "      <td>108000207</td>\n",
       "      <td>2020-09-06</td>\n",
       "      <td>확진자 접촉</td>\n",
       "      <td>False</td>\n",
       "      <td></td>\n",
       "      <td>2020-09-04</td>\n",
       "      <td>압구정동</td>\n",
       "      <td>None</td>\n",
       "      <td></td>\n",
       "      <td></td>\n",
       "    </tr>\n",
       "    <tr>\n",
       "      <th>0</th>\n",
       "      <td>108000206</td>\n",
       "      <td>2020-09-06</td>\n",
       "      <td>확진자 접촉</td>\n",
       "      <td>False</td>\n",
       "      <td></td>\n",
       "      <td>2020-09-04</td>\n",
       "      <td>압구정동</td>\n",
       "      <td>None</td>\n",
       "      <td></td>\n",
       "      <td></td>\n",
       "    </tr>\n",
       "    <tr>\n",
       "      <th>0</th>\n",
       "      <td>108000205</td>\n",
       "      <td>2020-09-06</td>\n",
       "      <td>확진자 접촉</td>\n",
       "      <td>False</td>\n",
       "      <td></td>\n",
       "      <td>2020-09-04</td>\n",
       "      <td>압구정동</td>\n",
       "      <td>None</td>\n",
       "      <td></td>\n",
       "      <td></td>\n",
       "    </tr>\n",
       "  </tbody>\n",
       "</table>\n",
       "</div>"
      ],
      "text/plain": [
       "         num         dat     pth    syy syd         cnd   rsd   atn dch adt\n",
       "0  108000207  2020-09-06  확진자 접촉  False      2020-09-04  압구정동  None        \n",
       "0  108000206  2020-09-06  확진자 접촉  False      2020-09-04  압구정동  None        \n",
       "0  108000205  2020-09-06  확진자 접촉  False      2020-09-04  압구정동  None        "
      ]
     },
     "execution_count": 266,
     "metadata": {},
     "output_type": "execute_result"
    }
   ],
   "source": [
    "patient.head(3)"
   ]
  },
  {
   "cell_type": "code",
   "execution_count": 267,
   "metadata": {},
   "outputs": [
    {
     "data": {
      "text/html": [
       "<div>\n",
       "<style scoped>\n",
       "    .dataframe tbody tr th:only-of-type {\n",
       "        vertical-align: middle;\n",
       "    }\n",
       "\n",
       "    .dataframe tbody tr th {\n",
       "        vertical-align: top;\n",
       "    }\n",
       "\n",
       "    .dataframe thead th {\n",
       "        text-align: right;\n",
       "    }\n",
       "</style>\n",
       "<table border=\"1\" class=\"dataframe\">\n",
       "  <thead>\n",
       "    <tr style=\"text-align: right;\">\n",
       "      <th></th>\n",
       "      <th>num</th>\n",
       "      <th>ord</th>\n",
       "      <th>dat</th>\n",
       "      <th>rgl</th>\n",
       "      <th>rgt</th>\n",
       "      <th>frm</th>\n",
       "      <th>exd</th>\n",
       "      <th>msk</th>\n",
       "      <th>ste</th>\n",
       "      <th>mob</th>\n",
       "    </tr>\n",
       "  </thead>\n",
       "  <tbody>\n",
       "    <tr>\n",
       "      <th>0</th>\n",
       "      <td>108000207</td>\n",
       "      <td>1</td>\n",
       "      <td>2020-09-06</td>\n",
       "      <td>삼성동봉은사역 6번 출구</td>\n",
       "      <td>사무실</td>\n",
       "      <td>NaN</td>\n",
       "      <td>- 8.28(금) 09:00~16:00</td>\n",
       "      <td>NaN</td>\n",
       "      <td>완료</td>\n",
       "      <td>NaN</td>\n",
       "    </tr>\n",
       "    <tr>\n",
       "      <th>1</th>\n",
       "      <td>108000207</td>\n",
       "      <td>2</td>\n",
       "      <td>2020-09-06</td>\n",
       "      <td>대치동대치역 3번 출구</td>\n",
       "      <td>마트</td>\n",
       "      <td>NaN</td>\n",
       "      <td>- 8.29(토) 16:11</td>\n",
       "      <td>NaN</td>\n",
       "      <td>완료</td>\n",
       "      <td>자차</td>\n",
       "    </tr>\n",
       "    <tr>\n",
       "      <th>2</th>\n",
       "      <td>108000207</td>\n",
       "      <td>3</td>\n",
       "      <td>2020-09-06</td>\n",
       "      <td>삼성동봉은사역 6번 출구</td>\n",
       "      <td>사무실</td>\n",
       "      <td>NaN</td>\n",
       "      <td>- 8.31(월) 09:00~11:30</td>\n",
       "      <td>NaN</td>\n",
       "      <td>완료</td>\n",
       "      <td>버스</td>\n",
       "    </tr>\n",
       "  </tbody>\n",
       "</table>\n",
       "</div>"
      ],
      "text/plain": [
       "         num ord         dat            rgl  rgt  frm                    exd  \\\n",
       "0  108000207   1  2020-09-06  삼성동봉은사역 6번 출구  사무실  NaN  - 8.28(금) 09:00~16:00   \n",
       "1  108000207   2  2020-09-06   대치동대치역 3번 출구   마트  NaN        - 8.29(토) 16:11   \n",
       "2  108000207   3  2020-09-06  삼성동봉은사역 6번 출구  사무실  NaN  - 8.31(월) 09:00~11:30   \n",
       "\n",
       "   msk ste  mob  \n",
       "0  NaN  완료  NaN  \n",
       "1  NaN  완료   자차  \n",
       "2  NaN  완료   버스  "
      ]
     },
     "execution_count": 267,
     "metadata": {},
     "output_type": "execute_result"
    }
   ],
   "source": [
    "route.head(3)"
   ]
  }
 ],
 "metadata": {
  "kernelspec": {
   "display_name": "Python 3",
   "language": "python",
   "name": "python3"
  },
  "language_info": {
   "codemirror_mode": {
    "name": "ipython",
    "version": 3
   },
   "file_extension": ".py",
   "mimetype": "text/x-python",
   "name": "python",
   "nbconvert_exporter": "python",
   "pygments_lexer": "ipython3",
   "version": "3.7.6"
  }
 },
 "nbformat": 4,
 "nbformat_minor": 4
}
