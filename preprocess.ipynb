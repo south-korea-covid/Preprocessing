{
 "cells": [
  {
   "cell_type": "code",
   "execution_count": 10,
   "metadata": {},
   "outputs": [],
   "source": [
    "from bs4 import BeautifulSoup\n",
    "import datetime as dt\n",
    "import pandas as pd\n",
    "from pathlib import Path\n",
    "import time\n",
    "import re\n",
    "import requests\n",
    "from selenium import webdriver"
   ]
  },
  {
   "cell_type": "code",
   "execution_count": 11,
   "metadata": {},
   "outputs": [],
   "source": [
    "today = str(dt.datetime.today().date()).replace('-','')[2:]\n",
    "PATH_DATA = Path.cwd().parent / 'data' / 'tables'\n",
    "\n",
    "chromedriver = '/Users/junseoklee/Applications/chromedriver'\n",
    "options = webdriver.ChromeOptions()\n",
    "options.add_argument('headless')\n",
    "driver = webdriver.Chrome(chromedriver, options = options) \n",
    "driver.set_window_size(1600,2000)"
   ]
  },
  {
   "cell_type": "code",
   "execution_count": 13,
   "metadata": {},
   "outputs": [],
   "source": [
    "driver.get(\"http://www.gangbuk.go.kr/intro_gb.jsp\")"
   ]
  },
  {
   "cell_type": "code",
   "execution_count": 15,
   "metadata": {},
   "outputs": [],
   "source": [
    "soup = BeautifulSoup(driver.page_source)"
   ]
  },
  {
   "cell_type": "code",
   "execution_count": 17,
   "metadata": {},
   "outputs": [],
   "source": [
    "selector1 = '#corona_container > main > div.contain_wrap.corona_wrap > strong > strong > div > div.sectionbox > div > div > div.itembox > ul > li'\n",
    "names = soup.select(selector1)"
   ]
  },
  {
   "cell_type": "code",
   "execution_count": 45,
   "metadata": {},
   "outputs": [],
   "source": [
    "nums = [int(n.select('li.title1 > p')[0].text[4:]) for n in names]\n",
    "dats = [pd.to_datetime('2020/' + n.select('li.title2 > p')[0].text) for n in names]\n",
    "paths = [n.select('li.title3 > p')[0].text.strip() for n in names]\n",
    "adds = [n.select('li.title4 > p')[0].text.strip() for n in names]\n",
    "trts = [n.select('li.title5 > p')[0].text.strip() for n in names]"
   ]
  },
  {
   "cell_type": "code",
   "execution_count": 57,
   "metadata": {},
   "outputs": [],
   "source": [
    "selector2 = '#corona_container > main > div.contain_wrap.corona_wrap > strong > strong > div > div.sectionbox > div > div > div.itembox > ul > li'\n",
    "routes_html = soup.select(selector2)"
   ]
  },
  {
   "cell_type": "code",
   "execution_count": 59,
   "metadata": {},
   "outputs": [],
   "source": [
    "regex_route = '\\\\n\\s+?(?P<rgt>.+?)\\((?P<rnn>.+?)\\)\\s\\|\\s(?P<rgn>.+?)\\s\\|\\s(?P<idt>.+?)\\s\\|\\s(?P<msk>.+?),\\s(?P<add>.+?)\\s?\\|\\s(?P<ste>.+?)\\s'\n",
    "routes_str = [r.select('div.layer')[0].text for r in routes_html]\n",
    "routes_parsed = [re.search(regex_route, r) for r in routes_str]\n",
    "rgt = [r.group('rgt') for r in routes_parsed if r is not None]\n",
    "rgn = [r.group('rgt') for r in routes_parsed if r is not None]"
   ]
  },
  {
   "cell_type": "code",
   "execution_count": 20,
   "metadata": {},
   "outputs": [],
   "source": [
    "list1 = []\n",
    "for i in range(10):\n",
    "    list1.append(i)"
   ]
  },
  {
   "cell_type": "code",
   "execution_count": 21,
   "metadata": {},
   "outputs": [
    {
     "data": {
      "text/plain": [
       "[0, 1, 2, 3, 4, 5, 6, 7, 8, 9]"
      ]
     },
     "execution_count": 21,
     "metadata": {},
     "output_type": "execute_result"
    }
   ],
   "source": [
    "list1"
   ]
  },
  {
   "cell_type": "code",
   "execution_count": 22,
   "metadata": {},
   "outputs": [
    {
     "data": {
      "text/plain": [
       "[0, 1, 2, 3, 4, 5, 6, 7, 8, 9]"
      ]
     },
     "execution_count": 22,
     "metadata": {},
     "output_type": "execute_result"
    }
   ],
   "source": [
    "[i for i in range(10)]"
   ]
  }
 ],
 "metadata": {
  "kernelspec": {
   "display_name": "Python 3",
   "language": "python",
   "name": "python3"
  },
  "language_info": {
   "codemirror_mode": {
    "name": "ipython",
    "version": 3
   },
   "file_extension": ".py",
   "mimetype": "text/x-python",
   "name": "python",
   "nbconvert_exporter": "python",
   "pygments_lexer": "ipython3",
   "version": "3.7.6"
  }
 },
 "nbformat": 4,
 "nbformat_minor": 4
}
