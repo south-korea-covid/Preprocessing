{
 "cells": [
  {
   "cell_type": "code",
   "execution_count": 11,
   "metadata": {},
   "outputs": [],
   "source": [
    "from bs4 import BeautifulSoup\n",
    "import pandas as pd\n",
    "import time\n",
    "from parse import *\n",
    "import re"
   ]
  },
  {
   "cell_type": "code",
   "execution_count": 4,
   "metadata": {},
   "outputs": [],
   "source": [
    "df = pd.read_csv(\"200905one_shot.csv\")\n",
    "soup = BeautifulSoup(df['html'][1], 'html5lib')"
   ]
  },
  {
   "cell_type": "code",
   "execution_count": 69,
   "metadata": {},
   "outputs": [],
   "source": [
    "import requests"
   ]
  },
  {
   "cell_type": "code",
   "execution_count": 71,
   "metadata": {},
   "outputs": [
    {
     "data": {
      "text/plain": [
       "'<!DOCTYPE html>\\r\\n<html lang=\"ko\">\\r\\n<!-- start: HEAD -->\\r\\n<head>\\r\\n\\t<meta http-equiv=\\'X-UA-Compatible\\' content=\"IE=edge\" />\\r\\n\\t<meta charset=\"utf-8\" />\\r\\n\\t<meta name=\"viewport\" content=\"width=device-width, initial-scale=1.0, user-scalable=0, minimum-scale=1.0, maximum-scale=1.0\">\\r\\n\\t<meta name=\"format-detection\" content=\"telephone=no, address=no, email=no\">\\r\\n\\t<title>MEMEWE GANGNAM ê°\\x95ë\\x82¨êµ¬ì²\\xad</title>\\r\\n\\t<link rel=\"image_src\" href=\"http://www.gangnam.go.kr/assets/images/icon/touch/og_image_memewe_src.png\" />\\r\\n\\r\\n\\t<meta http-equiv=\"Expires\" content=\"-1\">\\r\\n\\t<meta http-equiv=\"Pragma\" content=\"no-cache\">\\r\\n\\t<meta http-equiv=\"Cache-Control\" content=\"no-cache\">\\r\\n\\t<meta name=\"apple-mobile-web-app-capable\" content=\"yes\">\\r\\n\\t<meta name=\"mobile-web-app-capable\" content=\"yes\">\\r\\n\\t<meta name=\"title\" content=\"MEMEWE GANGNAM ê°\\x95ë\\x82¨êµ¬ì²\\xad\" />\\r\\n\\t<meta name=\"keywords\" content=\"MEMEWE GANGNAM ê°\\x95ë\\x82¨êµ¬ì²\\xad\" />\\r\\n\\t<meta name=\"description\" content=\"MEMEWE GANGNAM ê°\\x95ë\\x82¨êµ¬ì²\\xad\" />\\r\\n\\r\\n\\t<meta name=\"robots\" content=\"index,follow\" />\\r\\n\\r\\n\\t<meta name=\"author\" content=\"MEMEWE GANGNAM ê°\\x95ë\\x82¨êµ¬ì²\\xad\"/>\\r\\n\\t<meta name=\"publisher\" content=\"MEMEWE GANGNAM ê°\\x95ë\\x82¨êµ¬ì²\\xad | GANGNAM OFFICE\" />\\r\\n\\t<!-- facebook meta tag -->\\r\\n\\t<meta property=\"og:locale\" content=\"ko_KR\" />\\r\\n\\t<meta property=\"og:site_name\" content=\"MEMEWE GANGNAM ê°\\x95ë\\x82¨êµ¬ì²\\xad | GANGNAM OFFICE\" />\\r\\n\\t<meta property=\"og:title\" content=\"MEMEWE GANGNAM ê°\\x95ë\\x82¨êµ¬ì²\\xad\" />\\r\\n\\t<meta property=\"og:type\" content=\"article\" />\\r\\n\\t<meta property=\"og:description\" content=\"MEMEWE GANGNAM ê°\\x95ë\\x82¨êµ¬ì²\\xad\" />\\r\\n\\t<meta property=\"og:url\" content=\"http://www.gangnam.go.kr\" />\\r\\n\\t<meta property=\"og:image\" content=\"//www.gangnam.go.kr/assets/images/icon/touch/og_image_memewe_src.png\" />\\r\\n\\t<meta property=\"article:tag\" content=\"MEMEWE GANGNAM ê°\\x95ë\\x82¨êµ¬ì²\\xad\" />\\r\\n\\t<!-- twitter meta tag -->\\r\\n\\t<meta name=\"twitter:card\" content=\"summary_large_image\" />\\r\\n\\t<meta name=\"twitter:title\" content=\"MEMEWE GANGNAM ê°\\x95ë\\x82¨êµ¬ì²\\xad\" />\\r\\n\\t<meta name=\"twitter:description\" content=\"MEMEWE GANGNAM ê°\\x95ë\\x82¨êµ¬ì²\\xad\" />\\r\\n\\t<meta name=\"twitter:url\" content=\"http://www.gangnam.go.kr/main.do\" />\\r\\n\\t<meta name=\"twitter:image:src\" content=\"//www.gangnam.go.kr/assets/images/icon/touch/og_image_memewe_src.png\" />\\r\\n\\t<link rel=\"apple-touch-icon\" sizes=\"57x57\" href=\"/assets/images/icon/touch/touch-icon-114.png\" />\\r\\n\\t<link rel=\"apple-touch-icon\" sizes=\"72x72\" href=\"/assets/images/icon/touch/touch-icon-144.png\" />\\r\\n\\t<link rel=\"apple-touch-icon\" sizes=\"114x114\" href=\"/assets/images/icon/touch/touch-icon-114.png\" />\\r\\n\\t<link rel=\"apple-touch-icon\" sizes=\"144x144\" href=\"/assets/images/icon/touch/touch-icon-144.png\" />\\r\\n\\t<link rel=\"icon\" sizes=\"192x192\" href=\"/assets/images/icon/favicon_memewe.png\">\\r\\n\\t<link rel=\"icon\" type=\"image/png\" href=\"/assets/images/icon/favicon_memewe.png\" />\\r\\n\\t<link rel=\"apple-touch-startup-image\" href=\"/assets/images/icon/touch/startup_320x480.png\">\\r\\n\\r\\n\\t<link rel=\"stylesheet\" type=\"text/css\" href=\"/assets/vendor/bootstrap/css/bootstrap.min.css\">\\r\\n\\t<link rel=\"stylesheet\" type=\"text/css\" href=\"/assets/vendor/fontawesome-5.13.0/css/all.min.css\">\\r\\n\\t<link rel=\"stylesheet\" type=\"text/css\" href=\"/assets/vendor/swiper/swiper.min.css\">\\r\\n\\t<link rel=\"stylesheet\" type=\"text/css\" href=\"/assets/covid19/covid19.css?ver=1.2\">\\r\\n\\r\\n\\t<script src=\"/assets/vendor/jquery/jquery.min.js\"></script>\\r\\n\\t<script src=\"/assets/vendor/bootstrap/js/bootstrap.min.js\"></script>\\r\\n\\r\\n\\t<!--[if lt IE 9]>\\r\\n\\t\\t<script src=\"/assets/vendor/html5shiv/html5shiv.js\"></script>\\r\\n\\t\\t<script src=\"/assets/vendor/respond/respond.src.js\"></script>\\r\\n\\t<![endif]-->\\r\\n\\r\\n\\t<script src=\"/assets/covid19/covid19.js?dt=20200902\"></script>\\r\\n\\t<script src=\"/assets/vendor/Counter-Up-master/jquery.counterup.min.js\"></script>\\r\\n\\t<script src=\"/assets/vendor/swiper/swiper.min.js\"></script>\\r\\n\\t<script>\\r\\n\\t\\t$(document).ready(function(){\\r\\n\\t\\t\\tvar numberCounter = function(target_time, target_frame, target_number) {\\r\\n\\t\\t\\t  this.count = 0;this.diff = 0;\\r\\n\\t\\t\\t  this.target_count = parseInt(target_number);\\r\\n\\t\\t\\t  this.target_frame = document.getElementById(target_frame);\\r\\n\\t\\t\\t  this.timer = null;\\r\\n\\t\\t\\t  this.counter(target_time);\\r\\n\\t\\t\\t};\\r\\n\\r\\n\\t\\t\\tnumberCounter.prototype.counter = function (target_time) {\\r\\n\\t\\t\\t  var self = this;\\r\\n\\t\\t\\t  this.diff = this.target_count - this.count;\\r\\n\\t\\t\\t  if(target_time < 5){\\r\\n\\t\\t\\t\\t  target_time = 10;\\r\\n\\t\\t\\t  }\\r\\n\\r\\n\\t\\t\\t  if (this.diff > 0) {\\r\\n\\t\\t\\t\\tself.count += Math.ceil(this.diff / 5);\\r\\n\\t\\t\\t  }\\r\\n\\r\\n\\t\\t\\t  this.target_frame.innerHTML = this.count.toString().replace(/\\\\B(?=(\\\\d{3})+(?!\\\\d))/g, \\',\\');\\r\\n\\r\\n\\t\\t\\t  if (this.count < this.target_count) {\\r\\n\\t\\t\\t\\tthis.timer = setTimeout(function () {self.counter(target_time);}, target_time);\\r\\n\\t\\t\\t  } else {\\r\\n\\t\\t\\t\\tclearTimeout(this.timer);\\r\\n\\t\\t\\t  }\\r\\n\\t\\t\\t};\\r\\n\\r\\n\\t\\t\\tvar setConfirmDate = function(confirm_date){\\r\\n\\t\\t\\t\\t$(\".criteria_date > strong\").text(confirm_date);\\r\\n\\t\\t\\t}\\r\\n\\r\\n\\t\\t\\tvar setMemeweBrifUrl = function (key){\\r\\n\\t\\t\\t\\tvar url = \"/board/article/\"+key+\"/view.do?mid=FM0512&schArticle=ARTICLE_11\";\\r\\n\\t\\t\\t\\t$(\"#memeweBrif\").prop(\"href\", url);\\r\\n\\t\\t\\t}\\r\\n\\r\\n\\t\\t\\tvar json_status = \"//www.gangnam.go.kr/etc/json/covid19.json?ver=0905\";\\r\\n\\t\\t\\t$.getJSON(json_status, function(data, textStatus){\\r\\n\\t\\t\\t\\t\\r\\n\\t\\t\\t\\t// ë¯¸ë¯¸ì\\x9c\\x84ë¸\\x8cë¦¬í\\x95\\x91 ì\\x9d´ë\\x8f\\x99 í\\x82¤\\r\\n\\t\\t\\t\\tsetMemeweBrifUrl(data.status.memewebrifurl);\\r\\n\\t\\t\\t\\t// ê¸°ì¤\\x80 ë\\x82\\xa0ì§\\x9c ë³\\x80ê²½\\r\\n\\t\\t\\t\\tsetConfirmDate(data.status.confirmdate);\\r\\n\\t\\t\\t\\t\\r\\n\\t\\t\\t\\t// ì\\x88«ì\\x9e\\x90ì\\x97\\x90 ì½¤ë§\\x88(,) ì°\\x8dì§\\x80 ë§\\x88ì\\x8b\\x9cê³\\xa0 ê¸°ì\\x9e\\x85í\\x95´ì£¼ì\\x84¸ì\\x9a\\x94.\\r\\n\\t\\t\\t\\tnew numberCounter(100, \"counter1\", data.status.counter1);\\t// * í\\x9a\\x8cì\\x9d\\x98 ì\\x88\\x98 *\\r\\n\\t\\t\\t\\tnew numberCounter(20, \"counter2\", data.status.counter2);\\t// * ë§\\x88ì\\x8a¤í\\x81¬ *\\r\\n\\t\\t\\t\\t//new numberCounter(50, \"counter3\", data.status.counter3); \\t// * ì\\x86\\x90ì\\x86\\x8cë\\x8f\\x85ì\\xa0\\x9c *\\r\\n\\t\\t\\t\\tnew numberCounter(50, \"counter4\", data.status.counter4); \\t// * ê²\\x80ì\\x82¬ *\\r\\n\\t\\t\\t\\t//new numberCounter(50, \"counter5\", data.status.counter5); \\t// * ì\\x97´í\\x99\\x94ì\\x83\\x81ì¹´ë©\\x94ë\\x9d¼ *\\r\\n\\t\\t\\t\\tnew numberCounter(50, \"counter6\", data.status.counter6); \\t// * ë°©ì\\x97\\xad(ê³³) *\\r\\n\\t\\t\\t\\tnew numberCounter(50, \"counter7\", data.status.counter7); \\t// * ë°©ì\\x97\\xad(í\\x9a\\x8c) *\\r\\n\\t\\t\\t\\tnew numberCounter(50, \"counter8\", data.status.counter8); \\t// * í\\x99\\x95ì§\\x84ì\\x9e\\x90 *\\r\\n\\t\\t\\t\\tnew numberCounter(50, \"counter9\", data.status.counter9); \\t// * ì\\x9e\\x90ê°\\x80ê²©ë¦¬ *\\r\\n\\t\\t\\t\\t//new numberCounter(50, \"counter10\", data.status.counter10);\\t// * ì\\x83\\x81ë\\x8b´ë¯¼ì\\x9b\\x90 *\\r\\n\\t\\t\\t});\\r\\n\\t\\t});\\r\\n\\t</script>\\r\\n\\t</head>\\r\\n<!-- end: HEAD -->\\r\\n<body>\\r\\n\\t<div id=\"covid_wrap\" class=\"pc_covid\">\\r\\n\\t\\t<div class=\"covid_header\">\\r\\n\\t\\t\\t<div class=\"inner\">\\r\\n\\t\\t\\t\\t<div class=\"logo_area\">\\r\\n\\t\\t\\t\\t\\t<a href=\"/main.do\"><img src=\"/assets/covid19/images/logo_pc.png\" alt=\"MEMEWE GANGNAM ê°\\x95ë\\x82¨êµ¬ì²\\xad\"></a>\\r\\n\\t\\t\\t\\t</div>\\r\\n\\t\\t\\t\\t<div class=\"title_area\">\\r\\n\\t\\t\\t\\t\\t<a href=\"/index.htm\"><img src=\"/assets/covid19/images/title_pc.png\" alt=\"ê°\\x95ë\\x82¨êµ¬ ì½\\x94ë¡\\x9cë\\x82\\x9819 í\\x98\\x84í\\x99©\"></a>\\r\\n\\t\\t\\t\\t</div>\\r\\n\\t\\t\\t\\t<div class=\"txt_area\">\\r\\n\\t\\t\\t\\t\\t<img src=\"/assets/covid19/images/withcovid19.png\" alt=\"WITH COVID19\">\\r\\n\\t\\t\\t\\t</div>\\r\\n\\t\\t\\t</div>\\r\\n\\t\\t</div>\\r\\n\\t\\t<div class=\"covid_top_info\">\\r\\n\\t\\t\\t<div class=\"inner\">\\r\\n\\t\\t\\t\\t<div class=\"confirm_info\">\\r\\n\\t\\t\\t\\t\\t<ul>\\r\\n\\t\\t\\t\\t\\t\\t<li>\\r\\n\\t\\t\\t\\t\\t\\t\\t<strong id=\"counter8\"></strong>\\r\\n\\t\\t\\t\\t\\t\\t\\t<span>í\\x99\\x95ì§\\x84ì\\x9e\\x90</span>\\r\\n\\t\\t\\t\\t\\t\\t</li>\\r\\n\\t\\t\\t\\t\\t\\t<li>\\r\\n\\t\\t\\t\\t\\t\\t\\t<strong id=\"counter9\"></strong>\\r\\n\\t\\t\\t\\t\\t\\t\\t<span>ì\\x9e\\x90ê°\\x80ê²©ë¦¬</span>\\r\\n\\t\\t\\t\\t\\t\\t</li>\\r\\n\\t\\t\\t\\t\\t\\t<li>\\r\\n\\t\\t\\t\\t\\t\\t\\t<strong id=\"counter4\"></strong>\\r\\n\\t\\t\\t\\t\\t\\t\\t<span>ê²\\x80ì\\x82¬</span>\\r\\n\\t\\t\\t\\t\\t\\t</li>\\r\\n\\t\\t\\t\\t\\t</ul>\\r\\n\\t\\t\\t\\t</div>\\r\\n\\t\\t\\t\\t<p class=\"criteria_date mb_ver\"><strong></strong> ê¸°ì¤\\x80</p>\\r\\n\\t\\t\\t\\t<div class=\"current_area\">\\r\\n\\t\\t\\t\\t\\t<div class=\"conference\">\\r\\n\\t\\t\\t\\t\\t\\t<ul>\\r\\n\\t\\t\\t\\t\\t\\t\\t<li>\\r\\n\\t\\t\\t\\t\\t\\t\\t\\t<p><strong id=\"counter1\"></strong>í\\x9a\\x8c</p>\\r\\n\\t\\t\\t\\t\\t\\t\\t\\t<span>ë\\x8c\\x80ì±\\x85í\\x9a\\x8cì\\x9d\\x98</span>\\r\\n\\t\\t\\t\\t\\t\\t\\t</li>\\r\\n\\t\\t\\t\\t\\t\\t\\t<li>\\r\\n\\t\\t\\t\\t\\t\\t\\t\\t<p><strong id=\"counter2\"></strong>í\\x9a\\x8c</p>\\r\\n\\t\\t\\t\\t\\t\\t\\t\\t<span>ë§\\x88ì\\x8a¤í\\x81¬ ë°°ë¶\\x80</span>\\r\\n\\t\\t\\t\\t\\t\\t\\t</li>\\r\\n\\t\\t\\t\\t\\t\\t\\t<li>\\r\\n\\t\\t\\t\\t\\t\\t\\t\\t<p><strong id=\"counter6\"></strong>ê³³ <strong id=\"counter7\"></strong>í\\x9a\\x8c</p>\\r\\n\\t\\t\\t\\t\\t\\t\\t\\t<span>ë°©ì\\x97\\xadí\\x98\\x84í\\x99©</span>\\r\\n\\t\\t\\t\\t\\t\\t\\t</li>\\r\\n\\t\\t\\t\\t\\t\\t</ul>\\r\\n\\t\\t\\t\\t\\t</div>\\r\\n\\t\\t\\t\\t\\t<div class=\"homeBtn_area\">\\r\\n\\t\\t\\t\\t\\t\\t<a href=\"/main.do\"><span><strong>ë\\x8c\\x80í\\x91\\x9c í\\x99\\x88í\\x8e\\x98ì\\x9d´ì§\\x80</strong> ë°\\x94ë¡\\x9cê°\\x80ê¸°</span></a>\\r\\n\\t\\t\\t\\t\\t</div>\\r\\n\\t\\t\\t\\t</div>\\r\\n\\t\\t\\t\\t<p class=\"criteria_date pc_ver\"><strong></strong> ê¸°ì¤\\x80</p>\\r\\n\\t\\t\\t</div>\\r\\n\\t\\t</div>\\r\\n\\t\\t<div class=\"cv_container bg01\">\\r\\n\\t\\t\\t<div class=\"inner\">\\r\\n\\t\\t\\t\\t<div class=\"cv_contents type01\">\\r\\n\\t\\t\\t\\t\\t<div class=\"banner_area\">\\r\\n\\t\\t\\t\\t\\t\\t<div class=\"banner01\">\\r\\n\\t\\t\\t\\t\\t\\t\\t<a href=\"/path.htm\">\\r\\n\\t\\t\\t\\t\\t\\t\\t\\t<em>ì½\\x94ë¡\\x9cë\\x82\\x9819<strong>í\\x99\\x95ì§\\x84ì\\x9e\\x90 ì\\x9d´ë\\x8f\\x99ê²½ë¡\\x9c</strong></em>\\r\\n\\t\\t\\t\\t\\t\\t\\t\\t<span>í\\x99\\x95ì\\x9d¸<br />í\\x95\\x98ê¸°</span>\\r\\n\\t\\t\\t\\t\\t\\t\\t</a>\\r\\n\\t\\t\\t\\t\\t\\t</div>\\r\\n\\t\\t\\t\\t\\t\\t<div class=\"banner02\">\\r\\n\\t\\t\\t\\t\\t\\t\\t<a href=\"#n\" id=\"memeweBrif\" target=\"_blank\" title=\"ì\\x83\\x88ì°½ì\\x97´ë¦¼\">\\r\\n\\t\\t\\t\\t\\t\\t\\t\\t<em>ë¯¸ë¯¸ì\\x9c\\x84ê°\\x95ë\\x82¨<strong>ì½\\x94ë¡\\x9cë\\x82\\x9819 ë¸\\x8cë¦¬í\\x95\\x91</strong></em>\\r\\n\\t\\t\\t\\t\\t\\t\\t</a>\\r\\n\\t\\t\\t\\t\\t\\t</div>\\r\\n\\t\\t\\t\\t\\t\\t<div class=\"banner03\">\\r\\n\\t\\t\\t\\t\\t\\t\\t<a href=\"http://www.gangnam.go.kr/board/covid19_response/newest/view.do\" target=\"_blank\" title=\"ì\\x83\\x88ì°½ì\\x97´ë¦¼\">\\r\\n\\t\\t\\t\\t\\t\\t\\t\\t<em>&nbsp;&nbsp;&nbsp;&nbsp;&nbsp;&nbsp;&nbsp;&nbsp;&nbsp;&nbsp;ì½\\x94ë¡\\x9cë\\x82\\x9819<strong>ì\\x98¤ë\\x8a\\x98ì\\x9d\\x98 ì¡°ì¹\\x98ì\\x82¬í\\x95\\xad</strong></em>\\r\\n\\t\\t\\t\\t\\t\\t\\t</a>\\r\\n\\t\\t\\t\\t\\t\\t</div>\\r\\n\\t\\t\\t\\t\\t</div>\\r\\n\\t\\t\\t\\t</div>\\r\\n\\t\\t\\t</div>\\r\\n\\t\\t</div>\\r\\n\\t\\t<div class=\"cv_container\">\\r\\n\\t\\t\\t<div class=\"inner\">\\r\\n\\t\\t\\t\\t<div class=\"cv_contents type02\">\\r\\n\\t\\t\\t\\t\\t<h3>ê°\\x95ë\\x82¨êµ¬ <span>ì½\\x94ë¡\\x9cë\\x82\\x9819 ë\\x8c\\x80ì\\x9d\\x91</span></h3>\\r\\n\\t\\t\\t\\t\\t<div class=\"response_list\">\\r\\n\\t\\t\\t\\t\\t\\t<ul>\\r\\n\\t\\t\\t\\t\\t\\t\\t<li>\\r\\n\\t\\t\\t\\t\\t\\t\\t\\t<a href=\"/contents/quarantine_map/1/view.do?mid=FM010703\">\\r\\n\\t\\t\\t\\t\\t\\t\\t\\t\\t<img src=\"/assets/covid19/images/ico_01.png?ver=1.2\">\\r\\n\\t\\t\\t\\t\\t\\t\\t\\t\\t<span>ë°©ì\\x97\\xadí\\x98\\x84í\\x99©<br />ì§\\x80ë\\x8f\\x84ë³´ê¸°</span>\\r\\n\\t\\t\\t\\t\\t\\t\\t\\t</a>\\r\\n\\t\\t\\t\\t\\t\\t\\t</li>\\r\\n\\t\\t\\t\\t\\t\\t\\t<li>\\r\\n\\t\\t\\t\\t\\t\\t\\t\\t<a href=\"/board/cardnews/307/view.do?mid=FM0306\" target=\"_blank\">\\r\\n\\t\\t\\t\\t\\t\\t\\t\\t\\t<img src=\"/assets/covid19/images/ico_02.png?ver=1.2\">\\r\\n\\t\\t\\t\\t\\t\\t\\t\\t\\t<span>ì\\x9e\\x90ê°\\x80ê²©ë¦¬ì\\x9e\\x90<br />ì\\x95\\x88ì\\x8b¬ì\\x88\\x99ì\\x86\\x8c</span>\\r\\n\\t\\t\\t\\t\\t\\t\\t\\t</a>\\r\\n\\t\\t\\t\\t\\t\\t\\t</li>\\r\\n\\t\\t\\t\\t\\t\\t\\t<li>\\r\\n\\t\\t\\t\\t\\t\\t\\t\\t<a href=\"/board/dept_playlist/list.do?mid=FM0218\" target=\"_blank\">\\r\\n\\t\\t\\t\\t\\t\\t\\t\\t\\t<img src=\"/assets/covid19/images/ico_03.png?ver=1.2\">\\r\\n\\t\\t\\t\\t\\t\\t\\t\\t\\t<span>\\'í\\x95¨ê»\\x98í\\x95´ì\\x9a\\x94\\'<br />ì\\x98¨í\\x83\\x9dí\\x8a¸ í\\x94\\x84ë¡\\x9cê·¸ë\\x9e¨</span>\\r\\n\\t\\t\\t\\t\\t\\t\\t\\t</a>\\r\\n\\t\\t\\t\\t\\t\\t\\t</li>\\r\\n\\t\\t\\t\\t\\t\\t\\t<li>\\r\\n\\t\\t\\t\\t\\t\\t\\t\\t<a href=\"http://gn.my-leisure.co.kr/index.php?module=leisureSurveyGN&part=main&m_code=intro\" target=\"_blank\">\\r\\n\\t\\t\\t\\t\\t\\t\\t\\t\\t<img src=\"/assets/covid19/images/ico_04.png?ver=1.2\">\\r\\n\\t\\t\\t\\t\\t\\t\\t\\t\\t<span>\\'ì\\x97¬ê°\\x80ì½\\x95\\'<br />ì\\x97¬ê°\\x80 ì¶\\x94ì²\\x9c ì\\x84\\x9cë¹\\x84ì\\x8a¤</span>\\r\\n\\t\\t\\t\\t\\t\\t\\t\\t</a>\\r\\n\\t\\t\\t\\t\\t\\t\\t</li>\\r\\n\\t\\t\\t\\t\\t\\t\\t<li>\\r\\n\\t\\t\\t\\t\\t\\t\\t\\t<a href=\" /apply/winwincounselingcenter/newest/view.do\" target=\"_blank\">\\r\\n\\t\\t\\t\\t\\t\\t\\t\\t\\t<img src=\"/assets/covid19/images/ico_05.png?ver=1.3\">\\r\\n\\t\\t\\t\\t\\t\\t\\t\\t\\t<span>ê²°í\\x98¼ì\\x8b\\x9dì\\x9e¥<br />ë¶\\x84ì\\x9f\\x81ì¡°ì\\xa0\\x95 ì\\x8b\\xa0ì²\\xad</span>\\r\\n\\t\\t\\t\\t\\t\\t\\t\\t</a>\\r\\n\\t\\t\\t\\t\\t\\t\\t</li>\\r\\n\\t\\t\\t\\t\\t\\t\\t<li>\\r\\n\\t\\t\\t\\t\\t\\t\\t\\t<a href=\"/apply/sms_notice_service/newest/view.do?mid=FM020720\" target=\"_blank\">\\r\\n\\t\\t\\t\\t\\t\\t\\t\\t\\t<img src=\"/assets/covid19/images/ico_06.png?ver=1.2\">\\r\\n\\t\\t\\t\\t\\t\\t\\t\\t\\t<span>ë¬¸ì\\x9e\\x90 ì\\x84\\x9cë¹\\x84ì\\x8a¤<br />ì\\x8b\\xa0ì²\\xad</span>\\r\\n\\t\\t\\t\\t\\t\\t\\t\\t</a>\\r\\n\\t\\t\\t\\t\\t\\t\\t</li>\\r\\n\\t\\t\\t\\t\\t\\t\\t<li>\\r\\n\\t\\t\\t\\t\\t\\t\\t\\t<a href=\"https://blog.naver.com/alicegangnam/222046383293\" target=\"_blank\">\\r\\n\\t\\t\\t\\t\\t\\t\\t\\t\\t<img src=\"/assets/covid19/images/ico_07.png?ver=1.2\">\\r\\n\\t\\t\\t\\t\\t\\t\\t\\t\\t<span>\\'ME ME WE\\'<br />ê·¹ë³µ ì\\x9d\\x91ì\\x9b\\x90ì\\x86¡</span>\\r\\n\\t\\t\\t\\t\\t\\t\\t\\t</a>\\r\\n\\t\\t\\t\\t\\t\\t\\t</li>\\r\\n\\t\\t\\t\\t\\t\\t\\t<li>\\r\\n\\t\\t\\t\\t\\t\\t\\t\\t<a href=\"http://ncov.mohw.go.kr/\" target=\"_blank\">\\r\\n\\t\\t\\t\\t\\t\\t\\t\\t\\t<img src=\"/assets/covid19/images/ico_08.png?ver=1.2\">\\r\\n\\t\\t\\t\\t\\t\\t\\t\\t\\t<span>COVID-19<br />ì\\xa0\\x95ë³´ í\\x99\\x95ì\\x9d¸</span>\\r\\n\\t\\t\\t\\t\\t\\t\\t\\t</a>\\r\\n\\t\\t\\t\\t\\t\\t\\t</li>\\r\\n\\t\\t\\t\\t\\t\\t</ul>\\r\\n\\t\\t\\t\\t\\t</div>\\r\\n\\t\\t\\t\\t\\t<div class=\"call_contact\">\\r\\n\\t\\t\\t\\t\\t\\t<div class=\"box1\">\\r\\n\\t\\t\\t\\t\\t\\t\\t<h4>ê°\\x95ë\\x82¨êµ¬ ì\\x84\\xa0ë³\\x84ì§\\x84ë£\\x8cì\\x86\\x8c</h4>\\r\\n\\t\\t\\t\\t\\t\\t\\t<h5>ê°\\x95ë\\x82¨êµ¬ë³´ê±´ì\\x86\\x8c <a href=\"tel:02-3423-7137\"><strong>02-3423-7137</strong></a></h5>\\r\\n\\t\\t\\t\\t\\t\\t\\t<p class=\"check_txt\"> \\r\\n\\t\\t\\t\\t\\t\\t\\t\\tí\\x8f\\x89ì\\x9d¼ : <strong>09:00~20:00</strong> /  ì£¼ë§\\x90Â·í\\x9c´ì\\x9d¼ : <strong>09:00~19:00</strong>\\r\\n\\t\\t\\t\\t\\t\\t\\t\\t<span>â\\x80» ì\\x9d\\x8cì\\x95\\x95ì§\\x84ë£\\x8cì\\x8b¤ ì\\x99\\x84ë¹\\x84</span>\\r\\n\\t\\t\\t\\t\\t\\t\\t</p>\\r\\n\\t\\t\\t\\t\\t\\t</div>\\r\\n\\t\\t\\t\\t\\t\\t<div class=\"box2\">\\r\\n\\t\\t\\t\\t\\t\\t\\t<div class=\"hospital\">\\r\\n\\t\\t\\t\\t\\t\\t\\t\\t<div>\\r\\n\\t\\t\\t\\t\\t\\t\\t\\t\\t<a href=\"tel:02-3410-2114\"><strong>02-3410-2114</strong></a>\\r\\n\\t\\t\\t\\t\\t\\t\\t\\t\\t<p>ì\\x82¼ì\\x84±ì\\x84\\x9cì\\x9a¸ë³\\x91ì\\x9b\\x90</p>\\r\\n\\t\\t\\t\\t\\t\\t\\t\\t</div>\\r\\n\\t\\t\\t\\t\\t\\t\\t\\t<div>\\r\\n\\t\\t\\t\\t\\t\\t\\t\\t\\t<a href=\"tel:02-2019-3114\"><strong>02-2019-3114</strong></a>\\r\\n\\t\\t\\t\\t\\t\\t\\t\\t\\t<p>ê°\\x95ë\\x82¨ì\\x84¸ë¸\\x8cë\\x9e\\x80ì\\x8a¤ë³\\x91ì\\x9b\\x90</p>\\r\\n\\t\\t\\t\\t\\t\\t\\t\\t</div>\\r\\n\\t\\t\\t\\t\\t\\t\\t</div>\\r\\n\\t\\t\\t\\t\\t\\t\\t<div class=\"btnBox\">\\r\\n\\t\\t\\t\\t\\t\\t\\t\\t<a href=\"https://www.mohw.go.kr/react/popup_200128.html\" target=\"_blank\"><span>ê°\\x80ê¹\\x8cì\\x9a´ ì\\x84\\xa0ë³\\x84 <strong>ì§\\x84ë£\\x8cì\\x86\\x8c ì°¾ê¸°</strong></span></a>\\r\\n\\t\\t\\t\\t\\t\\t\\t</div>\\r\\n\\t\\t\\t\\t\\t\\t</div>\\r\\n\\t\\t\\t\\t\\t\\t<div class=\"box3\">\\r\\n\\t\\t\\t\\t\\t\\t\\t<h4>ì¦\\x9dì\\x83\\x81 ë°\\x9cì\\x83\\x9d ì\\x8b\\x9c ì\\x97°ë\\x9d½í\\x95´ì£¼ì\\x84¸ì\\x9a\\x94!</h4>\\r\\n\\t\\t\\t\\t\\t\\t\\t<h5>ì§\\x88ë³\\x91ê´\\x80ë¦¬ë³¸ë¶\\x80 <a href=\"tel:1339\"><strong>1339</strong></a></h5>\\r\\n\\t\\t\\t\\t\\t\\t\\t<h5>ê°\\x95ë\\x82¨êµ¬ ì\\x9e¬ë\\x82\\x9cì\\x95\\x88ì\\xa0\\x84ë\\x8c\\x80ì±\\x85ë³¸ë¶\\x80 <a href=\"tel:02-3423-5555\"><strong>02-3423-5555</strong></a></h5>\\r\\n\\t\\t\\t\\t\\t\\t\\t<h5>ë\\x8b¤ì\\x82°ì½\\x9c <a href=\"tel:02-120\"><strong>ì§\\x80ì\\x97\\xadë²\\x88í\\x98¸ +120</strong></a></h5>\\r\\n\\t\\t\\t\\t\\t\\t</div>\\r\\n\\t\\t\\t\\t\\t</div>\\r\\n\\t\\t\\t\\t</div>\\r\\n\\t\\t\\t</div>\\r\\n\\t\\t</div>\\r\\n\\t\\t<div class=\"cv_container bg02\">\\r\\n\\t\\t\\t<div class=\"inner\">\\r\\n\\t\\t\\t\\t<div class=\"cv_contents type02\">\\r\\n\\t\\t\\t\\t\\t<div class=\"inter_area\">\\r\\n\\t\\t\\t\\t\\t\\t<div class=\"cardnews\">\\r\\n\\t\\t\\t\\t\\t\\t\\t<a href=\"/board/cardnews/398/view.do?mid=FM0306\" target=\"_blank\">\\r\\n\\t\\t\\t\\t\\t\\t\\t\\t<img alt=\"ë§\\x88ì\\x8a¤í\\x81¬ ì\\x9d´ë\\xa0\\x87ê²\\x8c ì°©ì\\x9a©í\\x95\\x98ë©´ ì\\x95\\x88ë\\x8f¼ì\\x9a\\x94!\" src=\"http://www.gangnam.go.kr/upload/editor/2020/09/02/a1fe492e-93b8-4fb9-ba8f-c44e307e2963.jpg\">\\r\\n\\t\\t\\t\\t\\t\\t\\t\\t<em>\\r\\n\\t\\t\\t\\t\\t\\t\\t\\t\\t<span class=\"catetxt\">ì¹´ë\\x93\\x9cë\\x89´ì\\x8a¤</span>\\r\\n\\t\\t\\t\\t\\t\\t\\t\\t\\t<span class=\"titletxt\">ë§\\x88ì\\x8a¤í\\x81¬ ì\\x9d´ë\\xa0\\x87ê²\\x8c ì°©ì\\x9a©í\\x95\\x98ë©´ ì\\x95\\x88ë\\x8f¼ì\\x9a\\x94!</span>\\r\\n\\t\\t\\t\\t\\t\\t\\t\\t</em>\\r\\n\\t\\t\\t\\t\\t\\t\\t</a>\\r\\n\\t\\t\\t\\t\\t\\t</div>\\r\\n\\t\\t\\t\\t\\t\\t<div class=\"interactive\">\\r\\n\\t\\t\\t\\t\\t\\t\\t<h6>ë¯¸ë¯¸ì\\x9c\\x84ê°\\x95ë\\x82¨ ì\\x9d¸í\\x84°ë\\x9e\\x99í\\x8b°ë¸\\x8c</h6>\\r\\n\\t\\t\\t\\t\\t\\t\\t<a href=\"/etc/interactive/2nd_anniv/index.htm\" target=\"_blank\"><img src=\"/assets/covid19/images/img_interactive.jpg\"></a>\\r\\n\\t\\t\\t\\t\\t\\t</div>\\r\\n\\t\\t\\t\\t\\t</div>\\r\\n\\t\\t\\t\\t</div>\\r\\n\\t\\t\\t</div>\\r\\n\\t\\t</div>\\r\\n\\t</div>\\r\\n\\t<footer id=\"pc_footer\">\\r\\n\\t\\t<div class=\"inner\">\\r\\n\\t\\t\\t<p>Â© COPYRIGHT 2020 GANGNAM-GU OFFICE. ALL RIGHTS RESERVED.</p>\\r\\n\\t\\t</div>\\r\\n\\t</footer>\\r\\n\\t<div class=\"footer-right\">\\r\\n\\t\\t<div id=\"scroll-top\">\\r\\n\\t\\t\\t<button type=\"button\" class=\"btn_home\"><a href=\"/main.do\"><span>í\\x99\\x88í\\x8e\\x98ì\\x9d´ì§\\x80<br />ë°\\x94ë¡\\x9cê°\\x80ê¸°</span></a></button>\\r\\n\\t\\t\\t<button type=\"button\" class=\"btn_top\"><img src=\"/assets/covid19/images/btn_top.png\"></button>\\r\\n\\t\\t</div>\\r\\n\\t</div>\\r\\n\\t<script>\\r\\n\\t\\t(function(i,s,o,g,r,a,m){i[\\'GoogleAnalyticsObject\\']=r;i[r]=i[r]||function(){\\r\\n\\t\\t(i[r].q=i[r].q||[]).push(arguments)},i[r].l=1*new Date();a=s.createElement(o),\\r\\n\\t\\tm=s.getElementsByTagName(o)[0];a.async=1;a.src=g;m.parentNode.insertBefore(a,m)\\r\\n\\t\\t})(window,document,\\'script\\',\\'https://www.google-analytics.com/analytics.js\\',\\'ga\\');\\r\\n\\t\\tga(\\'create\\', \\'UA-32790723-1\\', \\'auto\\');\\r\\n\\t\\tga(\\'send\\', \\'pageview\\');\\r\\n\\t</script>\\r\\n</body>\\r\\n</html>'"
      ]
     },
     "execution_count": 71,
     "metadata": {},
     "output_type": "execute_result"
    }
   ],
   "source": [
    "r = requests.get('https://www.gangnam.go.kr')\n",
    "r.text"
   ]
  },
  {
   "cell_type": "code",
   "execution_count": 65,
   "metadata": {},
   "outputs": [
    {
     "data": {
      "text/plain": [
       "[<span>메인페이지로 이동 </span>,\n",
       " <span>나</span>,\n",
       " <span>가족</span>,\n",
       " <span>지역</span>,\n",
       " <span>동작구 재난안전방역대책본부</span>,\n",
       " <span>착한소비</span>,\n",
       " <span>보도자료</span>,\n",
       " <span>미디어</span>,\n",
       " <span>8. 31.(월) 동작구  176번(50대, 사당2동)  (추가동선)  </span>,\n",
       " <span> 9. 3.(목) 동작구  181번(60대,사당1동)    </span>,\n",
       " <span> 9. 3.(목) 동작구 180번(30대, 신대방2동)    </span>,\n",
       " <span> 9. 1.(화)  동작구 179번(40대, 신대방1동)    </span>,\n",
       " <span> 9. 1.(화)  동작구 178번(60대,신대방2동)      </span>,\n",
       " <span> 8. 31.(월)  동작구 177번(50대,신대방1동)      </span>,\n",
       " <span> 8. 31.(월)  동작구 176번(50대, 사당2동)      </span>,\n",
       " <span> 8. 31.(월)  동작구 175번(60대, 사당2동)       </span>,\n",
       " <span>  8. 27.(목) 관악구 207번 확진자 관내 이동경로</span>,\n",
       " <span> 8. 31.(월)  동작구 168번(60대, 상도3동)       </span>,\n",
       " <span> 8. 31.(월)  동작구 168번(60대, 상도3동)       </span>,\n",
       " <span> 8. 31.(월)  동작구 173번(60대, 신대방2동)       </span>,\n",
       " <span> 8. 31.(월)  동작구 172번(30대, 신대방2동)       </span>,\n",
       " <span> 8. 30.(일)  동작구 171번(20대, 신대방1동)       </span>,\n",
       " <span> 8. 30.(일)  동작구 170번(30대, 신대방1동)       </span>,\n",
       " <span> 8. 30.(일)  동작구 162번(40대, 신대방2동)       </span>,\n",
       " <span> 8. 31.(월)  동작구 167번(4세, 사당2동)       </span>,\n",
       " <span> 8. 31.(월)  동작구 166번(30대, 사당2동)       </span>,\n",
       " <span> 8. 30.(일)  동작구 161번(60대, 상도3동)      </span>,\n",
       " <span> 8. 30.(일)  동작구 158번(60대, 상도4동)      </span>,\n",
       " <span> 8. 30.(일)  동작구 160번(30대, 사당2동)    </span>,\n",
       " <span> 8. 28.(금)  동작구 144번(70대, 상도3동)     </span>,\n",
       " <span> 8. 29.(토)  동작구 확진자 153번(60대, 노량진1동)   </span>,\n",
       " <span> 8. 29.(토)  동작구 확진자 152번(30대, 노량진1동)   </span>,\n",
       " <span> 8. 31.(월)  동작구 확진자 174번(30대, 신대방2동)   </span>,\n",
       " <span> 8. 30.(일)  동작구 확진자 165번(80대, 상도2동)  </span>,\n",
       " <span> 8. 30.(일)  동작구 확진자 164번(70대, 상도2동)  </span>,\n",
       " <span> 8. 28.(금) 동작구 확진자 141번(40대, 상도1동)  </span>,\n",
       " <span> 8. 30.(일) 동작구 확진자 163(90대, 사당2동)   </span>,\n",
       " <span> 8. 30.(일) 동작구 확진자 157(60대, 상도3동)   </span>,\n",
       " <span> 8. 29.(토) 동작구 확진자 147(70대, 대방동)   </span>,\n",
       " <span> 8. 29.(토) 동작구 확진자 151(70대, 노량진1동)   </span>,\n",
       " <span> 8. 29.(토) 동작구 확진자 150(80대, 노량진1동)   </span>,\n",
       " <span> 8. 29.(토) 동작구 확진자 154(40대, 상도3동)   </span>,\n",
       " <span> 8. 28.(금) 동작구 확진자 143(50대, 노량진1동)   </span>,\n",
       " <span>8. 29.(토) 동작구 확진자 149(20대, 상도3동)   </span>,\n",
       " <span>8. 29.(토) 동작구 확진자 155(70대, 신대방1동)   </span>,\n",
       " <span>8. 28.(금)  동작구 확진자 142(30대, 사당1동)   </span>,\n",
       " <span>8. 28.(금)  동작구 확진자 140(70대, 상도4동)   </span>,\n",
       " <span> 8. 29.(토) 동작구 확진자 156(80대, 사당1동)  </span>,\n",
       " <span>8. 28.(금) 동작구 확진자 138(40대, 상도2동)  </span>,\n",
       " <span>8. 29.(토) 동작구 확진자 148(20대, 상도3동)   </span>,\n",
       " <span>8. 28.(금) 동작구 확진자 145(70대, 상도1동), 146(70대, 상도1동)   </span>,\n",
       " <span>8. 28.(금) 동작구 확진자 139(20대, 사당3동)   </span>,\n",
       " <span>8. 28.(금) 동작구 확진자 137(20대, 상도2동)   </span>,\n",
       " <span>8. 27.(목) 동작구 확진자 134(10대, 상도1동)   </span>,\n",
       " <span>8. 28.(금) 동작구 확진자 136(50대, 상도3동)   </span>,\n",
       " <span>8. 26.(수) 동작구 확진자 126(50대, 신대방1동)   </span>,\n",
       " <span>8. 27.(목) 동작구 확진자 130(50대, 사당3동)   </span>,\n",
       " <span>8. 27.(목) 동작구 확진자 128(20대, 사당1동)  </span>,\n",
       " <span>8. 27.(목) 동작구 확진자 133(50대, 상도1동)  </span>,\n",
       " <span>8. 27.(목) 동작구 확진자 132(90대, 상도1동)  </span>,\n",
       " <span>8. 27.(목) 동작구 확진자 131(10대, 상도1동)  </span>,\n",
       " <span>8. 27.(목) 동작구 확진자 129(50대, 신대방1동)  </span>,\n",
       " <span>8. 26.(수) 동작구 확진자 125(50대, 노량진1동)  </span>,\n",
       " <span>8. 26.(수) 동작구 확진자 124(70대, 상도2동)  </span>,\n",
       " <span>8. 26.(수) 동작구 확진자 123(40대, 상도1동)  </span>,\n",
       " <span>8. 26.(수) 동작구 확진자 122(70대, 상도2동)   </span>,\n",
       " <span>8. 24.(월) 동작구 확진자 121(70대, 상도2동)  </span>,\n",
       " <span>8. 24.(월) 영등포 102번 확진자 관내 이동경로    </span>,\n",
       " <span>8. 26.(수) 용산 93번 확진자 관내 이동경로    </span>,\n",
       " <span>8. 25.(화) 동작구 확진자 120(60대, 사당2동)   </span>,\n",
       " <span>  8. 25.(화) 관악 189번 확진자 관내 이동경로</span>,\n",
       " <span>  8. 21.(금) 오산 18번  확진자 관내 이동경로</span>,\n",
       " <span> 8. 22.(토) 관악 175번 확진자 관내 이동경로</span>,\n",
       " <span>8. 25.(화) 동작구 확진자 119 (70대, 상도4동)   </span>,\n",
       " <span>8. 24.(월) 동작구 확진자 118(60대, 노량진2동)   </span>,\n",
       " <span> 8. 25.(화) 용산 92번 확진자 관내 이동경로</span>,\n",
       " <span>8. 20.(목)  계양 64번 확진자 관내 이동경로</span>,\n",
       " <span>8. 22.(토)  성북 224번 확진자 관내 이동경로</span>,\n",
       " <span>8. 24.(월)  용산 88번 확진자 관내 이동경로</span>,\n",
       " <span>8. 22.(토)  강북구 80번 확진자 관내 이동경로</span>,\n",
       " <span>8. 23.(일)  부천시 212번 확진자 관내 이동경로</span>,\n",
       " <span>8. 23.(일) 동작구 확진자 117 (50대, 상도4동)   </span>,\n",
       " <span>8. 22.(토) 파주75번 확진자 관내 이동경로</span>,\n",
       " <span>8. 23.(일)  광진구 69번 확진자 관내 이동경로</span>,\n",
       " <span>8. 23.(일)  동대문구 98번 확진자 관내 이동경로</span>,\n",
       " <span>8. 22.(토)  영등포구 89번 확진자 관내 이동경로</span>,\n",
       " <span>8. 20.(목)  용산77번 확진자 관내 이동경로</span>,\n",
       " <span>8. 23.(일)  용산85, 86번확진자 관내 이동경로</span>,\n",
       " <span>8. 22.(토) 동작구 확진자 116 (30대,상도3동)   </span>,\n",
       " <span>8. 22.(토) 영등포구 93번 확진자 관내 이동경로</span>,\n",
       " <span>8. 22.(토) 관악구 177번 확진자 관내 이동경로</span>,\n",
       " <span>8. 22.(토) 동작구 확진자 115 (50대,노량진1동)   </span>,\n",
       " <span>8. 22.(토) 동작구 확진자 114 (60대,신대방1동)   </span>,\n",
       " <span>8. 21.(금) 동작구 확진자 111(50대,상도3동)   </span>,\n",
       " <span>8. 21.(금) 관악구 173번 확진자 관내 이동경로</span>,\n",
       " <span>8. 21.(금) 동작구 확진자 107 (70대,흑석동)   </span>,\n",
       " <span>8. 20.(목) 동작구 확진자 106 (70대,흑석동)   </span>,\n",
       " <span>8. 21.(금) 서대문구 62번 확진자 관내 이동경로</span>,\n",
       " <span>8. 20.(목) 송파구 164번 확진자 관내 이동경로</span>,\n",
       " <span>8. 20.(목)  서울기타 확진자 관내 이동경로</span>,\n",
       " <span>8. 21.(금) 동작구 확진자 103 (60대,사당4동)   </span>,\n",
       " <span>8. 20.(목) 관악 169번 확진자 관내 이동경로</span>,\n",
       " <span>8. 21.(금)  동작구 확진자 104(70대, 사당4동)   </span>,\n",
       " <span>8. 21.(금)  동작구 확진자 105(70대, 상도4동)  </span>]"
      ]
     },
     "execution_count": 65,
     "metadata": {},
     "output_type": "execute_result"
    }
   ],
   "source": [
    "soup.select('a > span')"
   ]
  },
  {
   "cell_type": "code",
   "execution_count": 66,
   "metadata": {},
   "outputs": [],
   "source": [
    "regex = \"(?P<date>\\d\\.\\s\\d\\d?\\.).+동작구.+?(?P<num>\\d\\d?\\d?)\\s?번?\\((?P<age>\\d\\d?).?,\\s?(?P<rsd>.+?)\\)\""
   ]
  },
  {
   "cell_type": "code",
   "execution_count": 67,
   "metadata": {},
   "outputs": [],
   "source": [
    "tmp = [re.search(regex, s.text) for s in soup.select('a > span')]"
   ]
  },
  {
   "cell_type": "code",
   "execution_count": 68,
   "metadata": {},
   "outputs": [
    {
     "data": {
      "text/plain": [
       "[('8. 31.', '176', '50', '사당2동'),\n",
       " ('9. 3.', '181', '60', '사당1동'),\n",
       " ('9. 3.', '180', '30', '신대방2동'),\n",
       " ('9. 1.', '179', '40', '신대방1동'),\n",
       " ('9. 1.', '178', '60', '신대방2동'),\n",
       " ('8. 31.', '177', '50', '신대방1동'),\n",
       " ('8. 31.', '176', '50', '사당2동'),\n",
       " ('8. 31.', '175', '60', '사당2동'),\n",
       " ('8. 31.', '168', '60', '상도3동'),\n",
       " ('8. 31.', '168', '60', '상도3동'),\n",
       " ('8. 31.', '173', '60', '신대방2동'),\n",
       " ('8. 31.', '172', '30', '신대방2동'),\n",
       " ('8. 30.', '171', '20', '신대방1동'),\n",
       " ('8. 30.', '170', '30', '신대방1동'),\n",
       " ('8. 30.', '162', '40', '신대방2동'),\n",
       " ('8. 31.', '167', '4', '사당2동'),\n",
       " ('8. 31.', '166', '30', '사당2동'),\n",
       " ('8. 30.', '161', '60', '상도3동'),\n",
       " ('8. 30.', '158', '60', '상도4동'),\n",
       " ('8. 30.', '160', '30', '사당2동'),\n",
       " ('8. 28.', '144', '70', '상도3동'),\n",
       " ('8. 29.', '153', '60', '노량진1동'),\n",
       " ('8. 29.', '152', '30', '노량진1동'),\n",
       " ('8. 31.', '174', '30', '신대방2동'),\n",
       " ('8. 30.', '165', '80', '상도2동'),\n",
       " ('8. 30.', '164', '70', '상도2동'),\n",
       " ('8. 28.', '141', '40', '상도1동'),\n",
       " ('8. 30.', '163', '90', '사당2동'),\n",
       " ('8. 30.', '157', '60', '상도3동'),\n",
       " ('8. 29.', '147', '70', '대방동'),\n",
       " ('8. 29.', '151', '70', '노량진1동'),\n",
       " ('8. 29.', '150', '80', '노량진1동'),\n",
       " ('8. 29.', '154', '40', '상도3동'),\n",
       " ('8. 28.', '143', '50', '노량진1동'),\n",
       " ('8. 29.', '149', '20', '상도3동'),\n",
       " ('8. 29.', '155', '70', '신대방1동'),\n",
       " ('8. 28.', '142', '30', '사당1동'),\n",
       " ('8. 28.', '140', '70', '상도4동'),\n",
       " ('8. 29.', '156', '80', '사당1동'),\n",
       " ('8. 28.', '138', '40', '상도2동'),\n",
       " ('8. 29.', '148', '20', '상도3동'),\n",
       " ('8. 28.', '145', '70', '상도1동'),\n",
       " ('8. 28.', '139', '20', '사당3동'),\n",
       " ('8. 28.', '137', '20', '상도2동'),\n",
       " ('8. 27.', '134', '10', '상도1동'),\n",
       " ('8. 28.', '136', '50', '상도3동'),\n",
       " ('8. 26.', '126', '50', '신대방1동'),\n",
       " ('8. 27.', '130', '50', '사당3동'),\n",
       " ('8. 27.', '128', '20', '사당1동'),\n",
       " ('8. 27.', '133', '50', '상도1동'),\n",
       " ('8. 27.', '132', '90', '상도1동'),\n",
       " ('8. 27.', '131', '10', '상도1동'),\n",
       " ('8. 27.', '129', '50', '신대방1동'),\n",
       " ('8. 26.', '125', '50', '노량진1동'),\n",
       " ('8. 26.', '124', '70', '상도2동'),\n",
       " ('8. 26.', '123', '40', '상도1동'),\n",
       " ('8. 26.', '122', '70', '상도2동'),\n",
       " ('8. 24.', '121', '70', '상도2동'),\n",
       " ('8. 25.', '120', '60', '사당2동'),\n",
       " ('8. 25.', '119', '70', '상도4동'),\n",
       " ('8. 24.', '118', '60', '노량진2동'),\n",
       " ('8. 23.', '117', '50', '상도4동'),\n",
       " ('8. 22.', '116', '30', '상도3동'),\n",
       " ('8. 22.', '115', '50', '노량진1동'),\n",
       " ('8. 22.', '114', '60', '신대방1동'),\n",
       " ('8. 21.', '111', '50', '상도3동'),\n",
       " ('8. 21.', '107', '70', '흑석동'),\n",
       " ('8. 20.', '106', '70', '흑석동'),\n",
       " ('8. 21.', '103', '60', '사당4동'),\n",
       " ('8. 21.', '104', '70', '사당4동'),\n",
       " ('8. 21.', '105', '70', '상도4동')]"
      ]
     },
     "execution_count": 68,
     "metadata": {},
     "output_type": "execute_result"
    }
   ],
   "source": [
    "[(r.group('date'), r.group('num'), r.group('age'), r.group('rsd')) for r in tmp if r is not None]"
   ]
  },
  {
   "cell_type": "code",
   "execution_count": null,
   "metadata": {},
   "outputs": [],
   "source": [
    "'body > div > div > ul.iw-arcordian > li:nth-child(2) > div > p:nth-child(4)'"
   ]
  },
  {
   "cell_type": "code",
   "execution_count": 62,
   "metadata": {},
   "outputs": [],
   "source": [
    "trait, route = soup.select('body > div > div > ul.iw-arcordian > li')[1].select('div > p.iwa-exp')"
   ]
  },
  {
   "cell_type": "markdown",
   "metadata": {},
   "source": [
    "동작구"
   ]
  },
  {
   "cell_type": "code",
   "execution_count": 63,
   "metadata": {},
   "outputs": [
    {
     "data": {
      "text/plain": [
       "'\\n\\n\\t\\t\\t\\t\\t\\t\\t\\t - 확진자 181번(60대,사당1동)감염경로는 확진자 접촉추정(관악#207), \\n\\t\\t\\t\\t\\t\\t\\t\\t - 9. 2.(수) 동작구 보건소에서 코로나19 검사\\n\\t\\t\\t\\t\\t\\t\\t\\t - 9. 3.(목) 코로나19 양성 판정\\n\\n\\t\\t\\t\\t\\t\\t\\t\\t\\t'"
      ]
     },
     "execution_count": 63,
     "metadata": {},
     "output_type": "execute_result"
    }
   ],
   "source": [
    "trait.text"
   ]
  },
  {
   "cell_type": "code",
   "execution_count": 39,
   "metadata": {},
   "outputs": [
    {
     "name": "stdout",
     "output_type": "stream",
     "text": [
      "[('8.31.(월)', '176번', '50', '사당2동'), ('9.3.(목)', '181', '60', '사당1동'), ('9.3.(목)', '180', '30', '신대방2동'), ('9.1.(화)', '179', '40', '신대방1동'), ('9.1.(화)', '178', '60', '신대방2동'), ('8.31.(월)', '177', '50', '신대방1동'), ('8.31.(월)', '176', '50', '사당2동'), ('8.31.(월)', '175', '60', '사당2동'), ('8.31.(월)', '168', '60', '상도3동'), ('8.31.(월)', '168', '60', '상도3동'), ('8.31.(월)', '173', '60', '신대방2동'), ('8.31.(월)', '172', '30', '신대방2동'), ('8.30.(일)', '171', '20', '신대방1동'), ('8.30.(일)', '170', '30', '신대방1동'), ('8.30.(일)', '162', '40', '신대방2동'), ('8.31.(월)', '166', '30', '사당2동'), ('8.30.(일)', '161', '60', '상도3동'), ('8.30.(일)', '158', '60', '상도4동'), ('8.30.(일)', '160', '30', '사당2동'), ('8.28.(금)', '144', '70', '상도3동'), ('8.29.(토)', '153번', '60', '노량진1동'), ('8.29.(토)', '152번', '30', '노량진1동'), ('8.31.(월)', '174번', '30', '신대방2동'), ('8.30.(일)', '165번', '80', '상도2동'), ('8.30.(일)', '164번', '70', '상도2동'), ('8.28.(금)', '141번', '40', '상도1동'), ('8.30.(일)', '163', '90', '사당2동'), ('8.30.(일)', '157', '60', '상도3동'), ('8.29.(토)', '147', '70', '대방동'), ('8.29.(토)', '151', '70', '노량진1동'), ('8.29.(토)', '150', '80', '노량진1동'), ('8.29.(토)', '154', '40', '상도3동'), ('8.28.(금)', '143', '50', '노량진1동'), ('8.29.(토)', '149', '20', '상도3동'), ('8.29.(토)', '155', '70', '신대방1동'), ('8.28.(금)', '142', '30', '사당1동'), ('8.28.(금)', '140', '70', '상도4동'), ('8.29.(토)', '156', '80', '사당1동'), ('8.28.(금)', '138', '40', '상도2동'), ('8.29.(토)', '148', '20', '상도3동'), ('8.28.(금)', '145', '70', '상도1동),146(70대,상도1동'), ('8.28.(금)', '139', '20', '사당3동'), ('8.28.(금)', '137', '20', '상도2동'), ('8.27.(목)', '134', '10', '상도1동'), ('8.28.(금)', '136', '50', '상도3동'), ('8.26.(수)', '126', '50', '신대방1동'), ('8.27.(목)', '130', '50', '사당3동'), ('8.27.(목)', '128', '20', '사당1동'), ('8.27.(목)', '133', '50', '상도1동'), ('8.27.(목)', '132', '90', '상도1동'), ('8.27.(목)', '131', '10', '상도1동'), ('8.27.(목)', '129', '50', '신대방1동'), ('8.26.(수)', '125', '50', '노량진1동'), ('8.26.(수)', '124', '70', '상도2동'), ('8.26.(수)', '123', '40', '상도1동'), ('8.26.(수)', '122', '70', '상도2동'), ('8.24.(월)', '121', '70', '상도2동'), ('8.25.(화)', '120', '60', '사당2동'), ('8.25.(화)', '119', '70', '상도4동'), ('8.24.(월)', '118', '60', '노량진2동'), ('8.23.(일)', '117', '50', '상도4동'), ('8.22.(토)', '116', '30', '상도3동'), ('8.22.(토)', '115', '50', '노량진1동'), ('8.22.(토)', '114', '60', '신대방1동'), ('8.21.(금)', '111', '50', '상도3동'), ('8.21.(금)', '107', '70', '흑석동'), ('8.20.(목)', '106', '70', '흑석동'), ('8.21.(금)', '103', '60', '사당4동'), ('8.21.(금)', '104', '70', '사당4동'), ('8.21.(금)', '105', '70', '상도4동')]\n"
     ]
    }
   ],
   "source": [
    "title = soup.select('a > span')\n",
    "\n",
    "titlelist = title[8:len(title)]\n",
    "textlist = []\n",
    "for x in titlelist:\n",
    "    revisedx = x.text.strip().replace(' ','')\n",
    "    if '확진자' in revisedx:\n",
    "        revisedx = revisedx.replace('확진자','')\n",
    "    elif '(추가동선)' in revisedx:\n",
    "        revisedx = revisedx.replace('(추가동선)','')\n",
    "    elif '번'in revisedx:\n",
    "        revisedx = revisedx.replace('번','')\n",
    "    textlist.append(revisedx)\n",
    "\n",
    "\n",
    "datalist = []\n",
    "for x in textlist:\n",
    "    try:\n",
    "        result = parse(\"{}동작구{}({}대,{})\",x)\n",
    "        datalist.append(result.fixed)\n",
    "    except:\n",
    "        continue\n",
    "print(datalist)\n"
   ]
  },
  {
   "cell_type": "code",
   "execution_count": 40,
   "metadata": {},
   "outputs": [
    {
     "data": {
      "text/plain": [
       "[('8.31.(월)', '176번', '50', '사당2동'),\n",
       " ('9.3.(목)', '181', '60', '사당1동'),\n",
       " ('9.3.(목)', '180', '30', '신대방2동'),\n",
       " ('9.1.(화)', '179', '40', '신대방1동'),\n",
       " ('9.1.(화)', '178', '60', '신대방2동'),\n",
       " ('8.31.(월)', '177', '50', '신대방1동'),\n",
       " ('8.31.(월)', '176', '50', '사당2동'),\n",
       " ('8.31.(월)', '175', '60', '사당2동'),\n",
       " ('8.31.(월)', '168', '60', '상도3동'),\n",
       " ('8.31.(월)', '168', '60', '상도3동'),\n",
       " ('8.31.(월)', '173', '60', '신대방2동'),\n",
       " ('8.31.(월)', '172', '30', '신대방2동'),\n",
       " ('8.30.(일)', '171', '20', '신대방1동'),\n",
       " ('8.30.(일)', '170', '30', '신대방1동'),\n",
       " ('8.30.(일)', '162', '40', '신대방2동'),\n",
       " ('8.31.(월)', '166', '30', '사당2동'),\n",
       " ('8.30.(일)', '161', '60', '상도3동'),\n",
       " ('8.30.(일)', '158', '60', '상도4동'),\n",
       " ('8.30.(일)', '160', '30', '사당2동'),\n",
       " ('8.28.(금)', '144', '70', '상도3동'),\n",
       " ('8.29.(토)', '153번', '60', '노량진1동'),\n",
       " ('8.29.(토)', '152번', '30', '노량진1동'),\n",
       " ('8.31.(월)', '174번', '30', '신대방2동'),\n",
       " ('8.30.(일)', '165번', '80', '상도2동'),\n",
       " ('8.30.(일)', '164번', '70', '상도2동'),\n",
       " ('8.28.(금)', '141번', '40', '상도1동'),\n",
       " ('8.30.(일)', '163', '90', '사당2동'),\n",
       " ('8.30.(일)', '157', '60', '상도3동'),\n",
       " ('8.29.(토)', '147', '70', '대방동'),\n",
       " ('8.29.(토)', '151', '70', '노량진1동'),\n",
       " ('8.29.(토)', '150', '80', '노량진1동'),\n",
       " ('8.29.(토)', '154', '40', '상도3동'),\n",
       " ('8.28.(금)', '143', '50', '노량진1동'),\n",
       " ('8.29.(토)', '149', '20', '상도3동'),\n",
       " ('8.29.(토)', '155', '70', '신대방1동'),\n",
       " ('8.28.(금)', '142', '30', '사당1동'),\n",
       " ('8.28.(금)', '140', '70', '상도4동'),\n",
       " ('8.29.(토)', '156', '80', '사당1동'),\n",
       " ('8.28.(금)', '138', '40', '상도2동'),\n",
       " ('8.29.(토)', '148', '20', '상도3동'),\n",
       " ('8.28.(금)', '145', '70', '상도1동),146(70대,상도1동'),\n",
       " ('8.28.(금)', '139', '20', '사당3동'),\n",
       " ('8.28.(금)', '137', '20', '상도2동'),\n",
       " ('8.27.(목)', '134', '10', '상도1동'),\n",
       " ('8.28.(금)', '136', '50', '상도3동'),\n",
       " ('8.26.(수)', '126', '50', '신대방1동'),\n",
       " ('8.27.(목)', '130', '50', '사당3동'),\n",
       " ('8.27.(목)', '128', '20', '사당1동'),\n",
       " ('8.27.(목)', '133', '50', '상도1동'),\n",
       " ('8.27.(목)', '132', '90', '상도1동'),\n",
       " ('8.27.(목)', '131', '10', '상도1동'),\n",
       " ('8.27.(목)', '129', '50', '신대방1동'),\n",
       " ('8.26.(수)', '125', '50', '노량진1동'),\n",
       " ('8.26.(수)', '124', '70', '상도2동'),\n",
       " ('8.26.(수)', '123', '40', '상도1동'),\n",
       " ('8.26.(수)', '122', '70', '상도2동'),\n",
       " ('8.24.(월)', '121', '70', '상도2동'),\n",
       " ('8.25.(화)', '120', '60', '사당2동'),\n",
       " ('8.25.(화)', '119', '70', '상도4동'),\n",
       " ('8.24.(월)', '118', '60', '노량진2동'),\n",
       " ('8.23.(일)', '117', '50', '상도4동'),\n",
       " ('8.22.(토)', '116', '30', '상도3동'),\n",
       " ('8.22.(토)', '115', '50', '노량진1동'),\n",
       " ('8.22.(토)', '114', '60', '신대방1동'),\n",
       " ('8.21.(금)', '111', '50', '상도3동'),\n",
       " ('8.21.(금)', '107', '70', '흑석동'),\n",
       " ('8.20.(목)', '106', '70', '흑석동'),\n",
       " ('8.21.(금)', '103', '60', '사당4동'),\n",
       " ('8.21.(금)', '104', '70', '사당4동'),\n",
       " ('8.21.(금)', '105', '70', '상도4동')]"
      ]
     },
     "execution_count": 40,
     "metadata": {},
     "output_type": "execute_result"
    }
   ],
   "source": [
    "datalist"
   ]
  },
  {
   "cell_type": "code",
   "execution_count": 6,
   "metadata": {},
   "outputs": [
    {
     "ename": "ValueError",
     "evalue": "Length mismatch: Expected axis has 0 elements, new values have 12 elements",
     "output_type": "error",
     "traceback": [
      "\u001b[0;31m---------------------------------------------------------------------------\u001b[0m",
      "\u001b[0;31mValueError\u001b[0m                                Traceback (most recent call last)",
      "\u001b[0;32m<ipython-input-6-f65c960538f8>\u001b[0m in \u001b[0;36m<module>\u001b[0;34m\u001b[0m\n\u001b[1;32m      1\u001b[0m \u001b[0mdf2\u001b[0m \u001b[0;34m=\u001b[0m \u001b[0mpd\u001b[0m\u001b[0;34m.\u001b[0m\u001b[0mDataFrame\u001b[0m\u001b[0;34m(\u001b[0m\u001b[0;34m)\u001b[0m\u001b[0;34m\u001b[0m\u001b[0;34m\u001b[0m\u001b[0m\n\u001b[0;32m----> 2\u001b[0;31m \u001b[0mdf2\u001b[0m\u001b[0;34m.\u001b[0m\u001b[0mcolumns\u001b[0m \u001b[0;34m=\u001b[0m \u001b[0;34m[\u001b[0m\u001b[0;34m'num'\u001b[0m\u001b[0;34m,\u001b[0m \u001b[0;34m'date'\u001b[0m\u001b[0;34m,\u001b[0m \u001b[0;34m'pth'\u001b[0m\u001b[0;34m,\u001b[0m \u001b[0;34m'syy'\u001b[0m\u001b[0;34m,\u001b[0m \u001b[0;34m'syd'\u001b[0m\u001b[0;34m,\u001b[0m \u001b[0;34m'cnd'\u001b[0m\u001b[0;34m,\u001b[0m \u001b[0;34m'rsd'\u001b[0m\u001b[0;34m,\u001b[0m \u001b[0;34m'atn'\u001b[0m\u001b[0;34m,\u001b[0m \u001b[0;34m'dch'\u001b[0m\u001b[0;34m,\u001b[0m \u001b[0;34m'adt'\u001b[0m\u001b[0;34m,\u001b[0m \u001b[0;34m'sex'\u001b[0m\u001b[0;34m,\u001b[0m \u001b[0;34m'age'\u001b[0m\u001b[0;34m]\u001b[0m\u001b[0;34m\u001b[0m\u001b[0;34m\u001b[0m\u001b[0m\n\u001b[0m",
      "\u001b[0;32m/opt/anaconda3/lib/python3.7/site-packages/pandas/core/generic.py\u001b[0m in \u001b[0;36m__setattr__\u001b[0;34m(self, name, value)\u001b[0m\n\u001b[1;32m   5285\u001b[0m         \u001b[0;32mtry\u001b[0m\u001b[0;34m:\u001b[0m\u001b[0;34m\u001b[0m\u001b[0;34m\u001b[0m\u001b[0m\n\u001b[1;32m   5286\u001b[0m             \u001b[0mobject\u001b[0m\u001b[0;34m.\u001b[0m\u001b[0m__getattribute__\u001b[0m\u001b[0;34m(\u001b[0m\u001b[0mself\u001b[0m\u001b[0;34m,\u001b[0m \u001b[0mname\u001b[0m\u001b[0;34m)\u001b[0m\u001b[0;34m\u001b[0m\u001b[0;34m\u001b[0m\u001b[0m\n\u001b[0;32m-> 5287\u001b[0;31m             \u001b[0;32mreturn\u001b[0m \u001b[0mobject\u001b[0m\u001b[0;34m.\u001b[0m\u001b[0m__setattr__\u001b[0m\u001b[0;34m(\u001b[0m\u001b[0mself\u001b[0m\u001b[0;34m,\u001b[0m \u001b[0mname\u001b[0m\u001b[0;34m,\u001b[0m \u001b[0mvalue\u001b[0m\u001b[0;34m)\u001b[0m\u001b[0;34m\u001b[0m\u001b[0;34m\u001b[0m\u001b[0m\n\u001b[0m\u001b[1;32m   5288\u001b[0m         \u001b[0;32mexcept\u001b[0m \u001b[0mAttributeError\u001b[0m\u001b[0;34m:\u001b[0m\u001b[0;34m\u001b[0m\u001b[0;34m\u001b[0m\u001b[0m\n\u001b[1;32m   5289\u001b[0m             \u001b[0;32mpass\u001b[0m\u001b[0;34m\u001b[0m\u001b[0;34m\u001b[0m\u001b[0m\n",
      "\u001b[0;32mpandas/_libs/properties.pyx\u001b[0m in \u001b[0;36mpandas._libs.properties.AxisProperty.__set__\u001b[0;34m()\u001b[0m\n",
      "\u001b[0;32m/opt/anaconda3/lib/python3.7/site-packages/pandas/core/generic.py\u001b[0m in \u001b[0;36m_set_axis\u001b[0;34m(self, axis, labels)\u001b[0m\n\u001b[1;32m    659\u001b[0m \u001b[0;34m\u001b[0m\u001b[0m\n\u001b[1;32m    660\u001b[0m     \u001b[0;32mdef\u001b[0m \u001b[0m_set_axis\u001b[0m\u001b[0;34m(\u001b[0m\u001b[0mself\u001b[0m\u001b[0;34m,\u001b[0m \u001b[0maxis\u001b[0m\u001b[0;34m,\u001b[0m \u001b[0mlabels\u001b[0m\u001b[0;34m)\u001b[0m \u001b[0;34m->\u001b[0m \u001b[0;32mNone\u001b[0m\u001b[0;34m:\u001b[0m\u001b[0;34m\u001b[0m\u001b[0;34m\u001b[0m\u001b[0m\n\u001b[0;32m--> 661\u001b[0;31m         \u001b[0mself\u001b[0m\u001b[0;34m.\u001b[0m\u001b[0m_data\u001b[0m\u001b[0;34m.\u001b[0m\u001b[0mset_axis\u001b[0m\u001b[0;34m(\u001b[0m\u001b[0maxis\u001b[0m\u001b[0;34m,\u001b[0m \u001b[0mlabels\u001b[0m\u001b[0;34m)\u001b[0m\u001b[0;34m\u001b[0m\u001b[0;34m\u001b[0m\u001b[0m\n\u001b[0m\u001b[1;32m    662\u001b[0m         \u001b[0mself\u001b[0m\u001b[0;34m.\u001b[0m\u001b[0m_clear_item_cache\u001b[0m\u001b[0;34m(\u001b[0m\u001b[0;34m)\u001b[0m\u001b[0;34m\u001b[0m\u001b[0;34m\u001b[0m\u001b[0m\n\u001b[1;32m    663\u001b[0m \u001b[0;34m\u001b[0m\u001b[0m\n",
      "\u001b[0;32m/opt/anaconda3/lib/python3.7/site-packages/pandas/core/internals/managers.py\u001b[0m in \u001b[0;36mset_axis\u001b[0;34m(self, axis, new_labels)\u001b[0m\n\u001b[1;32m    176\u001b[0m         \u001b[0;32mif\u001b[0m \u001b[0mnew_len\u001b[0m \u001b[0;34m!=\u001b[0m \u001b[0mold_len\u001b[0m\u001b[0;34m:\u001b[0m\u001b[0;34m\u001b[0m\u001b[0;34m\u001b[0m\u001b[0m\n\u001b[1;32m    177\u001b[0m             raise ValueError(\n\u001b[0;32m--> 178\u001b[0;31m                 \u001b[0;34mf\"Length mismatch: Expected axis has {old_len} elements, new \"\u001b[0m\u001b[0;34m\u001b[0m\u001b[0;34m\u001b[0m\u001b[0m\n\u001b[0m\u001b[1;32m    179\u001b[0m                 \u001b[0;34mf\"values have {new_len} elements\"\u001b[0m\u001b[0;34m\u001b[0m\u001b[0;34m\u001b[0m\u001b[0m\n\u001b[1;32m    180\u001b[0m             )\n",
      "\u001b[0;31mValueError\u001b[0m: Length mismatch: Expected axis has 0 elements, new values have 12 elements"
     ]
    }
   ],
   "source": [
    "df2 = pd.DataFrame()\n",
    "df2.columns = ['num', 'date', 'pth', 'syy', 'syd', 'cnd', 'rsd', 'atn', 'dch', 'adt', 'sex', 'age']"
   ]
  },
  {
   "cell_type": "code",
   "execution_count": null,
   "metadata": {},
   "outputs": [],
   "source": []
  },
  {
   "cell_type": "code",
   "execution_count": null,
   "metadata": {},
   "outputs": [],
   "source": []
  },
  {
   "cell_type": "code",
   "execution_count": 62,
   "metadata": {},
   "outputs": [
    {
     "data": {
      "text/plain": [
       "lxml.etree._ElementTree"
      ]
     },
     "execution_count": 62,
     "metadata": {},
     "output_type": "execute_result"
    }
   ],
   "source": []
  }
 ],
 "metadata": {
  "kernelspec": {
   "display_name": "Python 3",
   "language": "python",
   "name": "python3"
  },
  "language_info": {
   "codemirror_mode": {
    "name": "ipython",
    "version": 3
   },
   "file_extension": ".py",
   "mimetype": "text/x-python",
   "name": "python",
   "nbconvert_exporter": "python",
   "pygments_lexer": "ipython3",
   "version": "3.7.6"
  }
 },
 "nbformat": 4,
 "nbformat_minor": 4
}
